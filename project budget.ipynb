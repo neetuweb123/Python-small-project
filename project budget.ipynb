{
 "cells": [
  {
   "cell_type": "code",
   "execution_count": 3,
   "id": "c3e8bdc7-2357-463d-90bb-de897c30b3e7",
   "metadata": {},
   "outputs": [
    {
     "name": "stdout",
     "output_type": "stream",
     "text": [
      "**************************************************\n",
      "                    Budget                   \n",
      "**************************************************\n",
      "Select any one option \n",
      "1. Add amount \n",
      "2. Add category \n",
      "3. View transaction \n",
      "4. Exit\n",
      "\n",
      "1. Add Expense\n",
      "2. Remove Expense\n",
      "3. View Total Expenses\n",
      "4. Exit\n"
     ]
    },
    {
     "name": "stdin",
     "output_type": "stream",
     "text": [
      "Enter your choice:  4\n"
     ]
    },
    {
     "name": "stdout",
     "output_type": "stream",
     "text": [
      "Exiting the  budget and out.\n"
     ]
    }
   ],
   "source": [
    "def add_expense(expenses, name, amount):\n",
    "    expenses[name] = amount\n",
    "\n",
    "def remove_expense(expenses, name):\n",
    "    if name in expenses:\n",
    "        del expenses[name]\n",
    "    else:\n",
    "        print(f\"{name} not found in expenses.\")\n",
    "\n",
    "def get_total_expenses(expenses):\n",
    "    return sum(expenses.values())\n",
    "\n",
    "# Initialize the expenses dictionary\n",
    "expenses = {}\n",
    "\n",
    "print('*' * 50)\n",
    "print(\"                    Budget                   \")\n",
    "print('*' * 50)\n",
    "print(\"Select any one option \\n1. Add amount \\n2. Add category \\n3. View transaction \\n4. Exit\")\n",
    "\n",
    "while True:\n",
    "    print(\"\\n1. Add Expense\")\n",
    "    print(\"2. Remove Expense\")\n",
    "    print(\"3. View Total Expenses\")\n",
    "    print(\"4. Exit\")\n",
    "    choice = input(\"Enter your choice: \")\n",
    "\n",
    "    if choice == '1':\n",
    "        name = input(\"Enter expense name: \")\n",
    "        amount = float(input(\"Enter expense amount: \"))\n",
    "        add_expense(expenses, name, amount)\n",
    "    elif choice == '2':\n",
    "        name = input(\"Enter expense name to remove: \")\n",
    "        remove_expense(expenses, name)\n",
    "    elif choice == '3':\n",
    "        total = get_total_expenses(expenses)\n",
    "        print(f\"Total expenses: {total}\")\n",
    "    elif choice == '4':\n",
    "        print(\"Exiting the  budget and out.\")\n",
    "        break\n",
    "    else:\n",
    "        print(\"Invalid choice. Please try again.\")\n"
   ]
  },
  {
   "cell_type": "code",
   "execution_count": 5,
   "id": "7e2767ba-afb0-4cf4-8d58-6233cb96fe41",
   "metadata": {},
   "outputs": [
    {
     "name": "stdout",
     "output_type": "stream",
     "text": [
      "***********************BUDGET MANAGEMENT SYSTEM*********************** \n",
      "\n",
      "\n",
      "                           BUDGET OVERVIEW                            \n",
      "\n",
      "Welcome to the Budget Management System!\n",
      "Here, you can track your income, expenses, categorize them, \n",
      "and manage your financial transactions efficiently.\n",
      "\n",
      "Categories:\n",
      "1. Essential (Rent, Groceries, Utilities)\n",
      "2. Leisure (Entertainment, Shopping, Dining)\n",
      "3. Investments (Stocks, Savings, Retirement)\n",
      "4. Miscellaneous (Other Expenses)\n",
      "\n",
      "\n",
      "\n",
      " ********************************************************************** \n",
      "\n",
      "               1. Add Income \n",
      "               2. Add Expense\n",
      "               3. View Budget Summary \n",
      "               4. Generate Monthly Report \n",
      "               5. Search Transactions \n",
      "               6. Exit\n",
      "\n"
     ]
    },
    {
     "name": "stdin",
     "output_type": "stream",
     "text": [
      "\n",
      "Select the option:::  4\n"
     ]
    },
    {
     "name": "stdout",
     "output_type": "stream",
     "text": [
      "\n",
      "Monthly Report Feature Coming Soon!\n"
     ]
    },
    {
     "name": "stdin",
     "output_type": "stream",
     "text": [
      "\n",
      "Select the option:::  5\n",
      "\n",
      "Enter expense description to search:  3\n"
     ]
    },
    {
     "name": "stdout",
     "output_type": "stream",
     "text": [
      "\n",
      "Search Results:\n",
      "--------------------------------------------------\n",
      "No matching expenses found.\n"
     ]
    },
    {
     "name": "stdin",
     "output_type": "stream",
     "text": [
      "\n",
      "Select the option:::  6\n"
     ]
    },
    {
     "name": "stdout",
     "output_type": "stream",
     "text": [
      "\n",
      "Thank you for using the Budget Management System!\n"
     ]
    }
   ],
   "source": [
    "print(\"BUDGET MANAGEMENT SYSTEM\".center(70, \"*\"), \"\\n\\n\")\n",
    "print(\"BUDGET OVERVIEW\".center(70))\n",
    "print(\"\"\"\n",
    "Welcome to the Budget Management System!\n",
    "Here, you can track your income, expenses, categorize them, \n",
    "and manage your financial transactions efficiently.\n",
    "\n",
    "Categories:\n",
    "1. Essential (Rent, Groceries, Utilities)\n",
    "2. Leisure (Entertainment, Shopping, Dining)\n",
    "3. Investments (Stocks, Savings, Retirement)\n",
    "4. Miscellaneous (Other Expenses)\n",
    "\n",
    "\"\"\")\n",
    "print(\"\\n\", \"*\" * 70, \"\\n\")\n",
    "print(\"\".center(15), \"1. Add Income \\n\", \"\".center(15), \"2. Add Expense\\n\", \"\".center(15), \"3. View Budget Summary \\n\",\n",
    "      \"\".center(15), \"4. Generate Monthly Report \\n\", \"\".center(15), \"5. Search Transactions \\n\", \"\".center(15), \"6. Exit\\n\", sep=\"\")\n",
    "\n",
    "# Dictionaries to store income and expenses\n",
    "income_records = {}\n",
    "expenses = {}\n",
    "expense_id = 101\n",
    "income_id = 1\n",
    "\n",
    "while True:\n",
    "    option = input(\"\\nSelect the option::: \")\n",
    "\n",
    "    if option == '1':  # Add Income\n",
    "        print(\"Add Income\".center(30, \"-\"))\n",
    "        source = input(\"Income Source: \")\n",
    "        amount = float(input(\"Amount ($): \"))\n",
    "        income_records[income_id] = {'source': source, 'amount': amount}\n",
    "        print(\"Income Added Successfully!\")\n",
    "        income_id += 1\n",
    "\n",
    "    elif option == '2':  # Add Expense\n",
    "        print(\"Add Expense\".center(30, \"-\"))\n",
    "        name = input(\"Expense Description: \")\n",
    "        amount = float(input(\"Amount ($): \"))\n",
    "        category = input(\"\"\"Select Category:\n",
    "        1. Essential\n",
    "        2. Leisure\n",
    "        3. Investments\n",
    "        4. Miscellaneous\n",
    "        Choose (1/2/3/4): \"\"\")\n",
    "\n",
    "        category_name = {\n",
    "            '1': 'Essential',\n",
    "            '2': 'Leisure',\n",
    "            '3': 'Investments',\n",
    "            '4': 'Miscellaneous'\n",
    "        }.get(category, None)\n",
    "\n",
    "        if category_name:\n",
    "            expenses[expense_id] = {'name': name, 'amount': amount, 'category': category_name}\n",
    "            print(\"Expense Added Successfully!\")\n",
    "            expense_id += 1\n",
    "        else:\n",
    "            print(\"Invalid Category! Please try again.\")\n",
    "\n",
    "    elif option == '3':  # View Budget Summary\n",
    "        print(\"\\nBUDGET SUMMARY\".center(50, \"-\"))\n",
    "        total_income = sum(entry['amount'] for entry in income_records.values())\n",
    "        total_expense = sum(exp['amount'] for exp in expenses.values())\n",
    "\n",
    "        print(f\"Total Income: ${total_income:.2f}\")\n",
    "        print(f\"Total Expenses: ${total_expense:.2f}\")\n",
    "        print(f\"Remaining Balance: ${total_income - total_expense:.2f}\")\n",
    "\n",
    "        print(\"\\nExpense Breakdown:\")\n",
    "        categories = {'Essential': 0, 'Leisure': 0, 'Investments': 0, 'Miscellaneous': 0}\n",
    "        for exp in expenses.values():\n",
    "            categories[exp['category']] += exp['amount']\n",
    "\n",
    "        for cat, amt in categories.items():\n",
    "            print(f\"  - {cat}: ${amt:.2f}\")\n",
    "\n",
    "    elif option == '4':  # Generate Monthly Report (Placeholder)\n",
    "        print(\"\\nMonthly Report Feature Coming Soon!\")\n",
    "\n",
    "    elif option == '5':  # Search Transactions\n",
    "        search_term = input(\"\\nEnter expense description to search: \").lower()\n",
    "        found = False\n",
    "        print(\"\\nSearch Results:\")\n",
    "        print(\"-\" * 50)\n",
    "        for exp_id, exp in expenses.items():\n",
    "            if search_term in exp['name'].lower():\n",
    "                print(f\"ID: {exp_id}, Description: {exp['name']}, Amount: ${exp['amount']:.2f}, Category: {exp['category']}\")\n",
    "                found = True\n",
    "\n",
    "        if not found:\n",
    "            print(\"No matching expenses found.\")\n",
    "\n",
    "    elif option == '6':  # Exit\n",
    "        print(\"\\nThank you for using the Budget Management System!\")\n",
    "        break\n",
    "\n",
    "    else:\n",
    "        print(\"Invalid Option! Please try again.\")\n"
   ]
  },
  {
   "cell_type": "code",
   "execution_count": null,
   "id": "a6e5280a-b468-4871-9ee0-946cb9988f12",
   "metadata": {},
   "outputs": [],
   "source": []
  }
 ],
 "metadata": {
  "kernelspec": {
   "display_name": "Python 3 (ipykernel)",
   "language": "python",
   "name": "python3"
  },
  "language_info": {
   "codemirror_mode": {
    "name": "ipython",
    "version": 3
   },
   "file_extension": ".py",
   "mimetype": "text/x-python",
   "name": "python",
   "nbconvert_exporter": "python",
   "pygments_lexer": "ipython3",
   "version": "3.12.4"
  }
 },
 "nbformat": 4,
 "nbformat_minor": 5
}
